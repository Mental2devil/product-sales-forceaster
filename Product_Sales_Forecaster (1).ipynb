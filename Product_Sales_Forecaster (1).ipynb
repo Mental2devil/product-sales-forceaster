{
  "nbformat": 4,
  "nbformat_minor": 0,
  "metadata": {
    "colab": {
      "provenance": []
    },
    "kernelspec": {
      "name": "python3",
      "display_name": "Python 3"
    },
    "language_info": {
      "name": "python"
    },
    "widgets": {
      "application/vnd.jupyter.widget-state+json": {}
    }
  },
  "cells": [
    {
      "cell_type": "code",
      "execution_count": 2,
      "metadata": {
        "colab": {
          "base_uri": "https://localhost:8080/",
          "height": 35,
          "referenced_widgets": [
            "7aa603c50b0a445d85f8af356fb2897b",
            "0d00a409577847d196e92dd726f2ea5f",
            "5c09c8f9ef324d699a6a3af93f6160dc",
            "d3af67518f554d989d40b87c31752f9a",
            "3af02ecb83e34843b65f3bbc098bb62e",
            "41c12a029f1f4354897dbbbbd6b4df89",
            "5db2311123bc474798631ce2aec802e4"
          ]
        },
        "id": "ujKpp_l1TQl4",
        "outputId": "553428ab-2901-44a8-a963-1f70d4bd1510"
      },
      "outputs": [
        {
          "output_type": "stream",
          "name": "stdout",
          "text": [
            "Database ready with sample sales data in INR.\n"
          ]
        },
        {
          "output_type": "display_data",
          "data": {
            "text/plain": [
              "Dropdown(description='Product:', options=('Laptop', 'Phone', 'Tablet', 'Headphones'), value='Laptop')"
            ],
            "application/vnd.jupyter.widget-view+json": {
              "version_major": 2,
              "version_minor": 0,
              "model_id": "7aa603c50b0a445d85f8af356fb2897b"
            }
          },
          "metadata": {
            "application/vnd.jupyter.widget-view+json": {
              "colab": {
                "custom_widget_manager": {
                  "url": "https://ssl.gstatic.com/colaboratory-static/widgets/colab-cdn-widget-manager/2b70e893a8ba7c0f/manager.min.js"
                }
              }
            }
          }
        },
        {
          "output_type": "display_data",
          "data": {
            "text/plain": [
              "IntSlider(value=10, description='Quantity:', min=1)"
            ],
            "application/vnd.jupyter.widget-view+json": {
              "version_major": 2,
              "version_minor": 0,
              "model_id": "0d00a409577847d196e92dd726f2ea5f"
            }
          },
          "metadata": {
            "application/vnd.jupyter.widget-view+json": {
              "colab": {
                "custom_widget_manager": {
                  "url": "https://ssl.gstatic.com/colaboratory-static/widgets/colab-cdn-widget-manager/2b70e893a8ba7c0f/manager.min.js"
                }
              }
            }
          }
        },
        {
          "output_type": "display_data",
          "data": {
            "text/plain": [
              "FloatSlider(value=50000.0, description='Price (₹):', max=100000.0, min=1000.0, step=500.0)"
            ],
            "application/vnd.jupyter.widget-view+json": {
              "version_major": 2,
              "version_minor": 0,
              "model_id": "5c09c8f9ef324d699a6a3af93f6160dc"
            }
          },
          "metadata": {
            "application/vnd.jupyter.widget-view+json": {
              "colab": {
                "custom_widget_manager": {
                  "url": "https://ssl.gstatic.com/colaboratory-static/widgets/colab-cdn-widget-manager/2b70e893a8ba7c0f/manager.min.js"
                }
              }
            }
          }
        },
        {
          "output_type": "display_data",
          "data": {
            "text/plain": [
              "Dropdown(description='Season:', options=('Summer', 'Winter', 'Spring', 'Fall'), value='Summer')"
            ],
            "application/vnd.jupyter.widget-view+json": {
              "version_major": 2,
              "version_minor": 0,
              "model_id": "d3af67518f554d989d40b87c31752f9a"
            }
          },
          "metadata": {
            "application/vnd.jupyter.widget-view+json": {
              "colab": {
                "custom_widget_manager": {
                  "url": "https://ssl.gstatic.com/colaboratory-static/widgets/colab-cdn-widget-manager/2b70e893a8ba7c0f/manager.min.js"
                }
              }
            }
          }
        },
        {
          "output_type": "display_data",
          "data": {
            "text/plain": [
              "DatePicker(value=datetime.datetime(2025, 7, 10, 8, 56, 35, 770050), description='Month:', step=1)"
            ],
            "application/vnd.jupyter.widget-view+json": {
              "version_major": 2,
              "version_minor": 0,
              "model_id": "3af02ecb83e34843b65f3bbc098bb62e"
            }
          },
          "metadata": {
            "application/vnd.jupyter.widget-view+json": {
              "colab": {
                "custom_widget_manager": {
                  "url": "https://ssl.gstatic.com/colaboratory-static/widgets/colab-cdn-widget-manager/2b70e893a8ba7c0f/manager.min.js"
                }
              }
            }
          }
        },
        {
          "output_type": "display_data",
          "data": {
            "text/plain": [
              "Button(button_style='success', description='Add Sale', style=ButtonStyle())"
            ],
            "application/vnd.jupyter.widget-view+json": {
              "version_major": 2,
              "version_minor": 0,
              "model_id": "41c12a029f1f4354897dbbbbd6b4df89"
            }
          },
          "metadata": {
            "application/vnd.jupyter.widget-view+json": {
              "colab": {
                "custom_widget_manager": {
                  "url": "https://ssl.gstatic.com/colaboratory-static/widgets/colab-cdn-widget-manager/2b70e893a8ba7c0f/manager.min.js"
                }
              }
            }
          }
        },
        {
          "output_type": "display_data",
          "data": {
            "text/plain": [
              "Button(button_style='info', description='Show Visualizations', style=ButtonStyle())"
            ],
            "application/vnd.jupyter.widget-view+json": {
              "version_major": 2,
              "version_minor": 0,
              "model_id": "5db2311123bc474798631ce2aec802e4"
            }
          },
          "metadata": {
            "application/vnd.jupyter.widget-view+json": {
              "colab": {
                "custom_widget_manager": {
                  "url": "https://ssl.gstatic.com/colaboratory-static/widgets/colab-cdn-widget-manager/2b70e893a8ba7c0f/manager.min.js"
                }
              }
            }
          }
        }
      ],
      "source": [
        "# Install libraries I need for my project\n",
        "# I'm using Plotly for charts, ipywidgets for the form, and scikit-learn for predictions\n",
        "!pip install --upgrade plotly ipywidgets scikit-learn\n",
        "from google.colab import output\n",
        "# Enable widgets to make my form interactive in Colab\n",
        "output.enable_custom_widget_manager()\n",
        "\n",
        "# Import libraries for the project\n",
        "import sqlite3  # To store sales data\n",
        "import pandas as pd  # To handle data in tables\n",
        "import plotly.express as px  # To create charts\n",
        "import ipywidgets as widgets  # To build the input form\n",
        "from IPython.display import display, clear_output  # To show the form and clear output\n",
        "from sklearn.linear_model import LinearRegression  # To predict sales\n",
        "import numpy as np  # For calculations\n",
        "from datetime import datetime  # For dates\n",
        "\n",
        "# Set up the database to store sales data\n",
        "def init_db():\n",
        "    try:\n",
        "        # Connect to my database file\n",
        "        conn = sqlite3.connect('sales.db')\n",
        "        c = conn.cursor()\n",
        "        # Create a table called 'sales' to store data\n",
        "        c.execute('''CREATE TABLE IF NOT EXISTS sales\n",
        "                     (id INTEGER PRIMARY KEY AUTOINCREMENT, product TEXT, quantity INTEGER, price FLOAT, season TEXT, month TEXT, predicted_sales FLOAT)''')\n",
        "        # Add sample data if the table is empty\n",
        "        c.execute(\"SELECT COUNT(*) FROM sales\")\n",
        "        if c.fetchone()[0] == 0:\n",
        "            # Sample data I created in INR for testing\n",
        "            sample_data = [\n",
        "                ('Laptop', 50, 50000.0, 'Summer', '2025-06', 2500000.0),\n",
        "                ('Phone', 30, 30000.0, 'Winter', '2025-01', 900000.0),\n",
        "                ('Tablet', 20, 20000.0, 'Spring', '2025-03', 400000.0),\n",
        "                ('Headphones', 40, 5000.0, 'Fall', '2025-09', 200000.0)\n",
        "            ]\n",
        "            c.executemany(\"INSERT INTO sales (product, quantity, price, season, month, predicted_sales) VALUES (?, ?, ?, ?, ?, ?)\", sample_data)\n",
        "        conn.commit()\n",
        "        conn.close()\n",
        "        print(\"Database ready with sample sales data in INR.\")\n",
        "    except Exception as e:\n",
        "        print(f\"Oops, error setting up database: {e}\")\n",
        "\n",
        "# Train a simple machine learning model to predict sales\n",
        "def train_model():\n",
        "    # I used a small dataset in INR to learn ML\n",
        "    X = np.array([[50, 50000, 1], [30, 30000, 2], [20, 20000, 3], [40, 5000, 4]])  # Features: quantity, price, season\n",
        "    y = np.array([2500000, 900000, 400000, 200000])  # Sales in INR\n",
        "    model = LinearRegression()  # Simple model for predictions\n",
        "    model.fit(X, y)\n",
        "    return model\n",
        "\n",
        "# Add a sale and predict next month's sales\n",
        "def add_sale(product, quantity, price, season, month, model):\n",
        "    try:\n",
        "        # Convert season to a number for the model\n",
        "        season_map = {'Summer': 1, 'Winter': 2, 'Spring': 3, 'Fall': 4}\n",
        "        features = np.array([[quantity, price, season_map[season]]])\n",
        "        # Predict sales and round to 2 decimals\n",
        "        predicted_sales = round(model.predict(features)[0], 2)\n",
        "        # Keep predictions between ₹50,000 and ₹5,000,000\n",
        "        predicted_sales = max(50000, min(5000000, predicted_sales))\n",
        "        # Save to database\n",
        "        conn = sqlite3.connect('sales.db')\n",
        "        c = conn.cursor()\n",
        "        c.execute(\"INSERT INTO sales (product, quantity, price, season, month, predicted_sales) VALUES (?, ?, ?, ?, ?, ?)\",\n",
        "                  (product, quantity, price, season, month, predicted_sales))\n",
        "        conn.commit()\n",
        "        conn.close()\n",
        "        print(f\"Added: {product}, {quantity} units, ₹{price:,.2f}, {season}, {month}, Predicted Sales: ₹{predicted_sales:,.2f}\")\n",
        "        return predicted_sales\n",
        "    except Exception as e:\n",
        "        print(f\"Error adding sale: {e}\")\n",
        "        return None\n",
        "\n",
        "# Load and show sales data\n",
        "def analyze_sales():\n",
        "    try:\n",
        "        conn = sqlite3.connect('sales.db')\n",
        "        # Load data into a table\n",
        "        df = pd.read_sql_query(\"SELECT * FROM sales\", conn)\n",
        "        conn.close()\n",
        "        if not df.empty:\n",
        "            print(\"My Sales Data (in INR):\")\n",
        "            print(df[['product', 'quantity', 'price', 'season', 'month', 'predicted_sales']])\n",
        "        return df\n",
        "    except Exception as e:\n",
        "        print(f\"Error loading sales: {e}\")\n",
        "        return pd.DataFrame()\n",
        "\n",
        "# Show charts for sales trends\n",
        "def show_visualizations():\n",
        "    df = analyze_sales()\n",
        "    if df.empty:\n",
        "        print(\"No sales data to show yet!\")\n",
        "        return\n",
        "\n",
        "    try:\n",
        "        # Convert month for plotting\n",
        "        df['month'] = pd.to_datetime(df['month'], format='%Y-%m')\n",
        "        # Line chart for sales over time\n",
        "        monthly_sales = df.groupby('month')['predicted_sales'].sum().reset_index()\n",
        "        fig_line = px.line(monthly_sales, x='month', y='predicted_sales', title='Predicted Sales Over Time (INR)',\n",
        "                           labels={'predicted_sales': 'Predicted Sales (₹)', 'month': 'Month'})\n",
        "        fig_line.update_layout(width=600, height=400)\n",
        "        fig_line.show()\n",
        "\n",
        "        # Bar chart for average sales by season\n",
        "        season_avg = df.groupby('season')['predicted_sales'].mean().reset_index()\n",
        "        fig_bar = px.bar(season_avg, x='season', y='predicted_sales', title='Average Predicted Sales by Season (INR)',\n",
        "                         labels={'predicted_sales': 'Average Sales (₹)'}, color='season',\n",
        "                         color_discrete_sequence=px.colors.qualitative.Plotly)\n",
        "        fig_bar.update_layout(width=600, height=400)\n",
        "        fig_bar.show()\n",
        "\n",
        "        # Show stats\n",
        "        print(f\"Total Sales Entries: {len(df)}\")\n",
        "        print(f\"Average Predicted Sales: ₹{df['predicted_sales'].mean():,.2f}\")\n",
        "    except Exception as e:\n",
        "        print(f\"Error showing charts: {e}\")\n",
        "\n",
        "# Create a form for users to add sales\n",
        "product_input = widgets.Dropdown(options=['Laptop', 'Phone', 'Tablet', 'Headphones'], description=\"Product:\")\n",
        "quantity_input = widgets.IntSlider(min=1, max=100, step=1, value=10, description=\"Quantity:\")\n",
        "price_input = widgets.FloatSlider(min=1000, max=100000, step=500, value=50000, description=\"Price (₹):\")\n",
        "season_input = widgets.Dropdown(options=['Summer', 'Winter', 'Spring', 'Fall'], description=\"Season:\")\n",
        "month_input = widgets.DatePicker(description=\"Month:\", value=datetime.now())\n",
        "submit_button = widgets.Button(description=\"Add Sale\", button_style='success')\n",
        "viz_button = widgets.Button(description=\"Show Visualizations\", button_style='info')\n",
        "\n",
        "# Train the model\n",
        "model = train_model()\n",
        "\n",
        "# Handle form submissions\n",
        "def on_submit_clicked(b):\n",
        "    clear_output()\n",
        "    display(product_input, quantity_input, price_input, season_input, month_input, submit_button, viz_button)\n",
        "    if product_input.value and quantity_input.value and price_input.value and season_input.value and month_input.value:\n",
        "        month_str = month_input.value.strftime('%Y-%m')\n",
        "        add_sale(product_input.value, quantity_input.value, price_input.value, season_input.value, month_str, model)\n",
        "    else:\n",
        "        print(\"Please fill all fields!\")\n",
        "\n",
        "# Handle visualization button\n",
        "def on_viz_clicked(b):\n",
        "    clear_output()\n",
        "    display(product_input, quantity_input, price_input, season_input, month_input, submit_button, viz_button)\n",
        "    show_visualizations()\n",
        "\n",
        "submit_button.on_click(on_submit_clicked)\n",
        "viz_button.on_click(on_viz_clicked)\n",
        "\n",
        "# Start the database and show the form\n",
        "init_db()\n",
        "display(product_input, quantity_input, price_input, season_input, month_input, submit_button, viz_button)"
      ]
    }
  ]
}